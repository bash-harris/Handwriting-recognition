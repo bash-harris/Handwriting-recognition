{
 "cells": [
  {
   "cell_type": "code",
   "execution_count": 73,
   "metadata": {},
   "outputs": [],
   "source": [
    "import numpy as np\n",
    "from mlxtend.data import loadlocal_mnist\n"
   ]
  },
  {
   "cell_type": "code",
   "execution_count": 74,
   "metadata": {},
   "outputs": [],
   "source": [
    "def sigmoid (x):\n",
    "    return 1/(1 + np.exp(-x))\n",
    "\n",
    "def sigmoid_derivative(x):\n",
    "    return x * (1 - x)\n",
    "\n",
    "def relu(X):\n",
    "    return np.maximum(0,X)\n",
    "\n",
    "def relu_derivative(x):\n",
    "    return  (x > 0) * 1\n",
    "\n",
    "def loss(predicted_output,desired_output):\n",
    "    return 1/2*(desired_output-predicted_output)**2\n",
    "\n",
    "# Neural Network with \n",
    "class NeuralNetwork1() :\n",
    "    def __init__ (self, inputLayerNeuronsNumber , hiddenLayerNeuronsNumber, outputLayerNeuronsNumber):\n",
    "        self.inputLayerNeuronsNumber = inputLayerNeuronsNumber\n",
    "        self.hiddenLayerNeuronsNumber = hiddenLayerNeuronsNumber\n",
    "        self.outputLayerNeuronsNumber = outputLayerNeuronsNumber\n",
    "        self.learning_rate = 0.01\n",
    "        #He initialization\n",
    "        self.hidden_weights = np.random.randn(hiddenLayerNeuronsNumber,inputLayerNeuronsNumber)*np.sqrt(2/inputLayerNeuronsNumber)\n",
    "        self.hidden_bias = np.zeros([hiddenLayerNeuronsNumber,1])\n",
    "        self.output_weights = np.random.randn(outputLayerNeuronsNumber,hiddenLayerNeuronsNumber)\n",
    "        self.output_bias = np.zeros([outputLayerNeuronsNumber,1])\n",
    "        self.loss = []\n",
    "        \n",
    "        \n",
    "    def train(self, inputs, desired_output):\n",
    "        \n",
    "        hidden_layer_in = np.dot(self.hidden_weights, inputs) + self.hidden_bias\n",
    "        hidden_layer_out = sigmoid(hidden_layer_in)\n",
    "        \n",
    "        output_layer_in = np.dot(self.output_weights, hidden_layer_out) + self.output_bias\n",
    "        predicted_output = sigmoid(output_layer_in)\n",
    "        \n",
    "        error = desired_output - predicted_output\n",
    "        d_predicted_output = error * sigmoid_derivative(predicted_output)\n",
    "        \n",
    "        error_hidden_layer = d_predicted_output.T.dot(self.output_weights)\n",
    "        d_hidden_layer = error_hidden_layer.T * sigmoid_derivative(hidden_layer_out)\n",
    "                \n",
    "        self.output_weights += hidden_layer_out.dot(d_predicted_output.T).T * self.learning_rate\n",
    "        self.output_bias += np.sum(d_predicted_output, axis=0, keepdims=True) * self.learning_rate\n",
    "        \n",
    "        self.hidden_weights += inputs.dot(d_hidden_layer.T).T * self.learning_rate\n",
    "        self.hidden_bias += np.sum(d_hidden_layer, axis=0, keepdims=True) * self.learning_rate\n",
    "        self.loss.append(loss(predicted_output,desired_output))\n",
    "        \n",
    "        \n",
    "    def predict(self, inputs):\n",
    "        hidden_layer_in = np.dot(self.hidden_weights, inputs) + self.hidden_bias\n",
    "        hidden_layer_out = sigmoid(hidden_layer_in)\n",
    "        output_layer_in = np.dot(self.output_weights, hidden_layer_out) + self.output_bias\n",
    "        predicted_output = sigmoid(output_layer_in)\n",
    "        return predicted_output"
   ]
  },
  {
   "cell_type": "code",
   "execution_count": 75,
   "metadata": {},
   "outputs": [],
   "source": [
    "class NeuralNetwork2() :\n",
    "    def __init__ (self, inputLayerNeuronsNumber , hiddenLayerNeuronsNumber, outputLayerNeuronsNumber):\n",
    "        self.inputLayerNeuronsNumber = inputLayerNeuronsNumber\n",
    "        self.hiddenLayerNeuronsNumber = hiddenLayerNeuronsNumber\n",
    "        self.outputLayerNeuronsNumber = outputLayerNeuronsNumber\n",
    "        self.learning_rate = 0.001\n",
    "        #He initialization\n",
    "        self.hidden_weights = np.random.randn(hiddenLayerNeuronsNumber,inputLayerNeuronsNumber)*np.sqrt(2/inputLayerNeuronsNumber)\n",
    "        self.hidden_bias = np.zeros([hiddenLayerNeuronsNumber,1])\n",
    "        self.output_weights = np.random.randn(outputLayerNeuronsNumber,hiddenLayerNeuronsNumber)\n",
    "        self.output_bias = np.zeros([outputLayerNeuronsNumber,1])\n",
    "        self.loss = []\n",
    "        \n",
    "        \n",
    "    def train(self, inputs, desired_output):\n",
    "        \n",
    "        hidden_layer_in = np.dot(self.hidden_weights, inputs) + self.hidden_bias\n",
    "        hidden_layer_out = relu(hidden_layer_in)\n",
    "        \n",
    "        output_layer_in = np.dot(self.output_weights, hidden_layer_out) + self.output_bias\n",
    "        predicted_output = relu(output_layer_in)\n",
    "        \n",
    "        error = desired_output - predicted_output\n",
    "        d_predicted_output = error * relu_derivative(predicted_output)\n",
    "        \n",
    "        error_hidden_layer = d_predicted_output.T.dot(self.output_weights)\n",
    "        d_hidden_layer = error_hidden_layer.T * relu_derivative(hidden_layer_out)\n",
    "                \n",
    "        self.output_weights += hidden_layer_out.dot(d_predicted_output.T).T * self.learning_rate\n",
    "        self.output_bias += np.sum(d_predicted_output, axis=0, keepdims=True) * self.learning_rate\n",
    "        \n",
    "        self.hidden_weights += inputs.dot(d_hidden_layer.T).T * self.learning_rate\n",
    "        self.hidden_bias += np.sum(d_hidden_layer, axis=0, keepdims=True) * self.learning_rate\n",
    "        self.loss.append(loss(predicted_output,desired_output))\n",
    "        \n",
    "        \n",
    "    def predict(self, inputs):\n",
    "        hidden_layer_in = np.dot(self.hidden_weights, inputs) + self.hidden_bias\n",
    "        hidden_layer_out = sigmoid(hidden_layer_in)\n",
    "        output_layer_in = np.dot(self.output_weights, hidden_layer_out) + self.output_bias\n",
    "        predicted_output = sigmoid(output_layer_in)\n",
    "        return predicted_output"
   ]
  },
  {
   "cell_type": "code",
   "execution_count": 76,
   "metadata": {},
   "outputs": [
    {
     "name": "stdout",
     "output_type": "stream",
     "text": [
      "Training set shape :  (50000, 784)\n",
      "Test set shape :  (10000, 784)\n"
     ]
    }
   ],
   "source": [
    "X, y = loadlocal_mnist(images_path='Downloads/train-images.idx3-ubyte',labels_path='Downloads/train-labels.idx1-ubyte')\n",
    "\n",
    "#Spliting dataset\n",
    "num_train = 50000\n",
    "num_test = 10000\n",
    "X_train = X[:num_train, :]/255\n",
    "y_train = np.zeros((num_train, 10))\n",
    "y_train[np.arange(0, num_train) ,y[:num_train]] = 1  \n",
    "\n",
    "X_test = X[num_train:, :]/255\n",
    "y_test = np.zeros((num_test, 10))\n",
    "y_test[np.arange(0, num_test) ,y[y.size - num_test:]] = 1\n",
    "\n",
    "print(\"Training set shape : \",X_train.shape)\n",
    "print(\"Test set shape : \",X_test.shape)"
   ]
  },
  {
   "cell_type": "code",
   "execution_count": 77,
   "metadata": {},
   "outputs": [],
   "source": [
    "nn=NeuralNetwork1(784,394,10)\n",
    "\n",
    "    \n",
    "for i in range(X_train.shape[0]):\n",
    "    inputs = np.array(X_train[i, :].reshape(-1,1))\n",
    "    desired_output = np.array(y_train[i, :].reshape(-1,1))\n",
    "    nn.train(inputs, desired_output)"
   ]
  },
  {
   "cell_type": "code",
   "execution_count": 78,
   "metadata": {},
   "outputs": [
    {
     "name": "stdout",
     "output_type": "stream",
     "text": [
      "Accuracy is :  58.19  %\n"
     ]
    }
   ],
   "source": [
    "prediction_list = []\n",
    "for i in range(X_test.shape[0]): \n",
    "    inputs = np.array(X_test[i].reshape(-1,1))\n",
    "    prediction_list.append(nn.predict(inputs))\n",
    "\n",
    "correct_counter = 0\n",
    "for i in range(len(prediction_list)):\n",
    "    out_index = np.where(prediction_list[i] == np.amax(prediction_list[i]))[0][0]\n",
    "    \n",
    "    if y_test[i][out_index] == 1:\n",
    "        correct_counter+=1\n",
    "\n",
    "accuracy = correct_counter/num_test\n",
    "\n",
    "print(\"Accuracy is : \",accuracy*100,\" %\")"
   ]
  },
  {
   "cell_type": "code",
   "execution_count": 79,
   "metadata": {},
   "outputs": [],
   "source": [
    "nn=NeuralNetwork2(784,394,10)\n",
    "\n",
    "    \n",
    "for i in range(X_train.shape[0]):\n",
    "    inputs = np.array(X_train[i, :].reshape(-1,1))\n",
    "    desired_output = np.array(y_train[i, :].reshape(-1,1))\n",
    "    nn.train(inputs, desired_output)"
   ]
  },
  {
   "cell_type": "code",
   "execution_count": 80,
   "metadata": {},
   "outputs": [
    {
     "name": "stdout",
     "output_type": "stream",
     "text": [
      "Accuracy is :  10.35  %\n"
     ]
    }
   ],
   "source": [
    "prediction_list = []\n",
    "for i in range(X_test.shape[0]): \n",
    "    inputs = np.array(X_test[i].reshape(-1,1))\n",
    "    prediction_list.append(nn.predict(inputs))\n",
    "\n",
    "correct_counter = 0\n",
    "for i in range(len(prediction_list)):\n",
    "    out_index = np.where(prediction_list[i] == np.amax(prediction_list[i]))[0][0]\n",
    "    \n",
    "    if y_test[i][out_index] == 1:\n",
    "        correct_counter+=1\n",
    "\n",
    "accuracy = correct_counter/num_test\n",
    "\n",
    "print(\"Accuracy is : \",accuracy*100,\" %\")"
   ]
  },
  {
   "cell_type": "code",
   "execution_count": 81,
   "metadata": {},
   "outputs": [
    {
     "name": "stdout",
     "output_type": "stream",
     "text": [
      "Accuracy is :  10.35  %\n"
     ]
    }
   ],
   "source": [
    "##LEARNING RATE=0.4 SIGMOID FUNCTION\n",
    "prediction_list = []\n",
    "for i in range(X_test.shape[0]): \n",
    "    inputs = np.array(X_test[i].reshape(-1,1))\n",
    "    prediction_list.append(nn.predict(inputs))\n",
    "\n",
    "correct_counter = 0\n",
    "for i in range(len(prediction_list)):\n",
    "    out_index = np.where(prediction_list[i] == np.amax(prediction_list[i]))[0][0]\n",
    "    \n",
    "    if y_test[i][out_index] == 1:\n",
    "        correct_counter+=1\n",
    "\n",
    "accuracy = correct_counter/num_test\n",
    "\n",
    "print(\"Accuracy is : \",accuracy*100,\" %\")"
   ]
  },
  {
   "cell_type": "code",
   "execution_count": 82,
   "metadata": {},
   "outputs": [
    {
     "name": "stdout",
     "output_type": "stream",
     "text": [
      "Accuracy is :  10.35  %\n"
     ]
    }
   ],
   "source": [
    "##LEARNING RATE=0.8 SIGMOID FUNCTION\n",
    "prediction_list = []\n",
    "for i in range(X_test.shape[0]): \n",
    "    inputs = np.array(X_test[i].reshape(-1,1))\n",
    "    prediction_list.append(nn.predict(inputs))\n",
    "\n",
    "correct_counter = 0\n",
    "for i in range(len(prediction_list)):\n",
    "    out_index = np.where(prediction_list[i] == np.amax(prediction_list[i]))[0][0]\n",
    "    \n",
    "    if y_test[i][out_index] == 1:\n",
    "        correct_counter+=1\n",
    "\n",
    "accuracy = correct_counter/num_test\n",
    "\n",
    "print(\"Accuracy is : \",accuracy*100,\" %\")"
   ]
  },
  {
   "cell_type": "code",
   "execution_count": null,
   "metadata": {},
   "outputs": [],
   "source": []
  }
 ],
 "metadata": {
  "kernelspec": {
   "display_name": "Python 3",
   "language": "python",
   "name": "python3"
  },
  "language_info": {
   "codemirror_mode": {
    "name": "ipython",
    "version": 3
   },
   "file_extension": ".py",
   "mimetype": "text/x-python",
   "name": "python",
   "nbconvert_exporter": "python",
   "pygments_lexer": "ipython3",
   "version": "3.7.4"
  }
 },
 "nbformat": 4,
 "nbformat_minor": 2
}
